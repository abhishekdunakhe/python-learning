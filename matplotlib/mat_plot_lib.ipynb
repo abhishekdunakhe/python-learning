{
 "cells": [
  {
   "cell_type": "code",
   "execution_count": null,
   "id": "1c486760",
   "metadata": {},
   "outputs": [],
   "source": [
    "import matplotlib.pyplot as plt"
   ]
  },
  {
   "cell_type": "code",
   "execution_count": null,
   "id": "0c2a60de",
   "metadata": {},
   "outputs": [],
   "source": [
    "import numpy as np"
   ]
  },
  {
   "cell_type": "code",
   "execution_count": null,
   "id": "dadc3b5b",
   "metadata": {},
   "outputs": [],
   "source": [
    "x = np.linspace(0,10,100)\n",
    "y = np.sin(x) # this is gives sin values for table\n",
    "z = np.cos(x) # this is gives cos values for table"
   ]
  },
  {
   "cell_type": "code",
   "execution_count": null,
   "id": "87cf4cc6",
   "metadata": {},
   "outputs": [],
   "source": [
    "print(x)\n",
    "print(y)\n",
    "print(z)"
   ]
  },
  {
   "cell_type": "code",
   "execution_count": null,
   "id": "8189143b",
   "metadata": {},
   "outputs": [],
   "source": [
    "plt.plot(x,y) # this plot sin wave\n",
    "plt.xlabel('angle')\n",
    "plt.ylabel('sine value')\n",
    "plt.title('sine wave')\n",
    "plt.show()\n"
   ]
  },
  {
   "cell_type": "code",
   "execution_count": null,
   "id": "f91fff07",
   "metadata": {},
   "outputs": [],
   "source": [
    "plt.plot(x,z) # this plot cos wave\n",
    "plt.show()"
   ]
  },
  {
   "cell_type": "code",
   "execution_count": null,
   "id": "0b56543c",
   "metadata": {},
   "outputs": [],
   "source": [
    "x = np.linspace(-10,10,20)\n",
    "y = x ** 2\n",
    "plt.plot(x,y)\n",
    "plt.show()"
   ]
  },
  {
   "cell_type": "code",
   "execution_count": null,
   "id": "d8df61ec",
   "metadata": {},
   "outputs": [],
   "source": [
    "plt.plot(x,y, 'r')\n",
    "plt.show()"
   ]
  },
  {
   "cell_type": "code",
   "execution_count": null,
   "id": "ccc13db3",
   "metadata": {},
   "outputs": [],
   "source": [
    "plt.plot(x,y, 'g.')\n",
    "plt.show()"
   ]
  },
  {
   "cell_type": "code",
   "execution_count": null,
   "id": "50a639e8",
   "metadata": {},
   "outputs": [],
   "source": [
    "x = np.linspace(-5,5,50)\n",
    "plt.plot(x, np.sin(x), 'g-')\n",
    "plt.plot(x, np.cos(x), 'r--')\n",
    "plt.show()"
   ]
  },
  {
   "cell_type": "code",
   "execution_count": null,
   "id": "83559392",
   "metadata": {},
   "outputs": [],
   "source": [
    "# bar plot \n",
    "fig = plt.figure()\n",
    "ax = fig.add_axes([0,0,1,1])\n",
    "lang = [\"English\", \"Spanish\", \"German\", \"French\"]\n",
    "people = [60, 40, 50, 70]\n",
    "ax.bar(lang, people)\n",
    "plt.xlabel(\"LANGAUGE\")\n",
    "plt.ylabel(\"NUMBER OF PEOPLE\")\n",
    "plt.show()"
   ]
  },
  {
   "cell_type": "code",
   "execution_count": null,
   "id": "2a96b2ab",
   "metadata": {},
   "outputs": [],
   "source": [
    "fig = plt.figure()\n",
    "ax = fig.add_axes([0,0,1,1])\n",
    "lang = [\"English\", \"Spanish\", \"German\", \"French\"]\n",
    "people = [60, 40, 50, 70]\n",
    "ax.pie(people,labels=lang,autopct='%1.1f%%')\n",
    "plt.show()"
   ]
  },
  {
   "cell_type": "code",
   "execution_count": null,
   "id": "9351d36f",
   "metadata": {},
   "outputs": [],
   "source": []
  }
 ],
 "metadata": {
  "kernelspec": {
   "display_name": "Python 3",
   "language": "python",
   "name": "python3"
  },
  "language_info": {
   "codemirror_mode": {
    "name": "ipython",
    "version": 3
   },
   "file_extension": ".py",
   "mimetype": "text/x-python",
   "name": "python",
   "nbconvert_exporter": "python",
   "pygments_lexer": "ipython3",
   "version": "3.10.0"
  }
 },
 "nbformat": 4,
 "nbformat_minor": 5
}
